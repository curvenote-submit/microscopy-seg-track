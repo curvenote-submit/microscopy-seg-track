{
 "cells": [
  {
   "cell_type": "markdown",
   "metadata": {},
   "source": [
    "---\n",
    "title: Interactive train and test loss curves  \n",
    "author: Yifei Duan, Yifan Duan  \n",
    "date: 2024/10/02  \n",
    "---"
   ]
  },
  {
   "cell_type": "code",
   "execution_count": 1,
   "metadata": {},
   "outputs": [
    {
     "data": {
      "application/vnd.jupyter.widget-view+json": {
       "model_id": "5df57bd449964e649d1e33985dd09e4a",
       "version_major": 2,
       "version_minor": 0
      },
      "text/plain": [
       "VBox(children=(ToggleButtons(description='Y-Axis Scale:', options=('Linear', 'Log'), tooltip='Toggle log scali…"
      ]
     },
     "metadata": {},
     "output_type": "display_data"
    }
   ],
   "source": [
    "#| label: app:fig3\n",
    "\n",
    "%matplotlib widget\n",
    "\n",
    "import pandas as pd\n",
    "import matplotlib.pyplot as plt\n",
    "import ipywidgets as widgets\n",
    "from IPython.display import display\n",
    "\n",
    "# Disable matplotlib auto display\n",
    "plt.ioff()\n",
    "\n",
    "# Load the CSV files for different models\n",
    "file_paths = {\n",
    "    'YOLOv8n-seg': 'train_test_log/log_yolo_v8.csv',\n",
    "    'EfficientSAM': 'train_test_log/log_esam_tiny.csv',\n",
    "    'vmamba': 'train_test_log/log_mamba.csv',\n",
    "    'Swin-UNet': 'train_test_log/log_swin_unet.csv'\n",
    "}\n",
    "\n",
    "# Read and store data in a dictionary\n",
    "data_dict = {}\n",
    "for model_name, file_path in file_paths.items():\n",
    "    data = pd.read_csv(file_path)\n",
    "    data.columns = data.columns.str.strip()\n",
    "    data_dict[model_name] = data\n",
    "\n",
    "# Create a figure with 2 rows and 2 columns\n",
    "fig, axes = plt.subplots(2, 2, figsize=(6.7,)*2)\n",
    "plt.subplots_adjust(wspace=0.3, hspace=0.3)  # Adjust spacing between subplots\n",
    "fig.canvas.resizable = False\n",
    "fig.canvas.header_visible = False\n",
    "fig.canvas.footer_visible = False\n",
    "fig.canvas.toolbar_visible = True\n",
    "fig.canvas.layout.width = '670px'\n",
    "fig.canvas.layout.height = \"710px\"\n",
    "fig.canvas.toolbar_position = 'bottom'\n",
    "\n",
    "# Flatten the axes array for easy iteration\n",
    "axes = axes.flatten()\n",
    "\n",
    "# Create toggle buttons for log scaling (Linear vs Log)\n",
    "log_scale_toggle = widgets.ToggleButtons(\n",
    "    options=['Linear', 'Log'],\n",
    "    value='Linear',\n",
    "    description='Y-Axis Scale:',\n",
    "    tooltip='Toggle log scaling of y-axis'\n",
    ")\n",
    "\n",
    "# Define the update function\n",
    "def update_plots(*args):\n",
    "    for ax, (model_name, data) in zip(axes, data_dict.items()):\n",
    "        ax.clear()  # Clear the current axes\n",
    "        \n",
    "        # Extract epochs and loss values\n",
    "        if model_name == 'YOLOv8n-seg':\n",
    "            epochs = data['epoch']\n",
    "            train_loss = data['train/seg_loss']\n",
    "            val_loss = data['val/seg_loss']\n",
    "        else:\n",
    "            epochs = data['E']\n",
    "            train_loss = data['Train Loss']\n",
    "            val_loss = data['Test Loss']\n",
    "        \n",
    "        # Plot the data\n",
    "        ax.plot(epochs, train_loss, label='Train Loss')\n",
    "        ax.plot(epochs, val_loss, linestyle='--', label='Test Loss')\n",
    "\n",
    "        # Set title and labels\n",
    "        ax.set_title(model_name)\n",
    "        ax.set_xlabel('Epochs')\n",
    "        ax.set_ylabel('Loss')\n",
    "        \n",
    "        # Set y-axis scale based on the toggle button\n",
    "        if log_scale_toggle.value == 'Log':\n",
    "            ax.set_yscale('log')\n",
    "        else:\n",
    "            ax.set_yscale('linear')\n",
    "        \n",
    "        # Add legend\n",
    "        ax.legend()\n",
    "    \n",
    "    fig.canvas.draw_idle()\n",
    "\n",
    "# Connect the widgets to the update function\n",
    "log_scale_toggle.observe(update_plots, names='value')\n",
    "\n",
    "# Call the update function once to initialize the plots\n",
    "update_plots()\n",
    "\n",
    "# Create a VBox to combine the widgets and the figure\n",
    "combined_box = widgets.VBox([log_scale_toggle, fig.canvas])  # Combine widgets and figure in a vertical box\n",
    "\n",
    "# Display the combined widgets and figure\n",
    "display(combined_box)"
   ]
  }
 ],
 "metadata": {
  "kernelspec": {
   "display_name": "Python 3 (ipykernel)",
   "language": "python",
   "name": "python3"
  },
  "language_info": {
   "codemirror_mode": {
    "name": "ipython",
    "version": 3
   },
   "file_extension": ".py",
   "mimetype": "text/x-python",
   "name": "python",
   "nbconvert_exporter": "python",
   "pygments_lexer": "ipython3",
   "version": "3.10.14"
  }
 },
 "nbformat": 4,
 "nbformat_minor": 4
}
